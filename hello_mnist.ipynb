{
 "cells": [
  {
   "cell_type": "markdown",
   "metadata": {},
   "source": [
    "## Deep Learning Multiclassifier Basics\n",
    "\n",
    "In this notebook I take the famous MNIST Dataset and implement a simple but powefull Convolutional Neural Network, with 99% Test Acc. and with the ability to be used in applications outside the MNIST Dataset.\n",
    "\n",
    "I used the Keras library to develop the NN.\n",
    "\n",
    "The MNIST Dataset is a classical dataset in Computer Vision, made of handwritten digits. So, in this task I try to develop a Classifier to predict handwritten digits from 0 to 9.\n",
    "\n",
    "A lot of the core ideas here came after I read \"Deep Learning with Python\" by François Chollet. A great book for those who want to learn Keras and Deep Learning."
   ]
  },
  {
   "cell_type": "code",
   "execution_count": 2,
   "metadata": {},
   "outputs": [
    {
     "name": "stderr",
     "output_type": "stream",
     "text": [
      "/home/andre/anaconda3/lib/python3.6/site-packages/h5py/__init__.py:36: FutureWarning: Conversion of the second argument of issubdtype from `float` to `np.floating` is deprecated. In future, it will be treated as `np.float64 == np.dtype(float).type`.\n",
      "  from ._conv import register_converters as _register_converters\n",
      "Using TensorFlow backend.\n"
     ]
    }
   ],
   "source": [
    "# Imports\n",
    "# For modelling\n",
    "from keras.datasets import mnist\n",
    "from keras.models import load_model\n",
    "from keras.utils import to_categorical\n",
    "from keras import layers, models\n",
    "import numpy as np\n",
    "\n",
    "# To plot\n",
    "import matplotlib.pyplot as plt\n",
    "\n",
    "# For handling images\n",
    "import cv2"
   ]
  },
  {
   "cell_type": "markdown",
   "metadata": {},
   "source": [
    "## The data\n",
    "\n",
    "Each sample in the dataset is a 28x28 image with one colour channel. You can see an example below.\n",
    "The data is splitted into 60000 train samples and 10000 test samples.\n",
    "The classes are well balanced trough the dataset."
   ]
  },
  {
   "cell_type": "code",
   "execution_count": 2,
   "metadata": {},
   "outputs": [
    {
     "name": "stdout",
     "output_type": "stream",
     "text": [
      "Digit Sample\n"
     ]
    },
    {
     "data": {
      "text/plain": [
       "<matplotlib.image.AxesImage at 0x7f9a04c175f8>"
      ]
     },
     "execution_count": 2,
     "metadata": {},
     "output_type": "execute_result"
    },
    {
     "data": {
      "image/png": "[encoded data removed]",
      "text/plain": [
       "<matplotlib.figure.Figure at 0x7f9a0a15c160>"
      ]
     },
     "metadata": {},
     "output_type": "display_data"
    }
   ],
   "source": [
    "# Importing the data, already available in the Keras package\n",
    "(train_images_total, train_labels_total), (test_images, test_labels) = mnist.load_data()\n",
    "\n",
    "print('Digit Sample')\n",
    "example = train_images_total[7]\n",
    "plt.imshow(example, cmap=plt.cm.binary)"
   ]
  },
  {
   "cell_type": "markdown",
   "metadata": {},
   "source": [
    "## Convnet Model\n",
    "\n",
    "For the model's architecture I chose a Convolutional Neural Network.\n",
    "The model is sequential, composed by 8 layers:\n",
    "    - 2 pairs of Convolution + MaxPooling Layers\n",
    "    - Convolution Layer\n",
    "    - Flatten Layer, to reshape the data in 1 dimension\n",
    "    - A Dense layer\n",
    "    - Final Dense layer with ten final nodes, the same as the number of classes in our problem\n",
    "    \n",
    "For the activation function in the layers I used relu, except in the last one where I used the softmax to output the index for the max value in the predicitions. This will be our digit predicted.\n",
    "I used RMSprop optimizer, a standard optimizer.\n",
    "The Loss Function will be the Categorical Crossentropy, because we are dealing with a multiclassification problem.\n",
    "I used Accuracy as performance metric because we have a balanced dataset.\n",
    "\n",
    "I kept a validation set for tunning the model, that I first trained with 13 epochs."
   ]
  },
  {
   "cell_type": "code",
   "execution_count": 3,
   "metadata": {},
   "outputs": [],
   "source": [
    "# Data Processing\n",
    "train_images_total = train_images_total.reshape((60000, 28, 28, 1)) # reshape to match NN input\n",
    "train_images_total = train_images_total.astype('float32') / 255  # normalization of gray images\n",
    "test_images = test_images.reshape((10000, 28, 28, 1))\n",
    "test_images = test_images.astype('float32') / 255\n",
    "train_labels_total = to_categorical(train_labels_total)  # one hot encoding\n",
    "test_labels = to_categorical(test_labels)\n",
    "\n",
    "num_validation_samples = 12500\n",
    "validation_data = train_images_total[: num_validation_samples]\n",
    "validation_labels = train_labels_total[: num_validation_samples]\n",
    "train_data = train_images_total[num_validation_samples :]\n",
    "\n",
    "train_labels = train_labels_total[num_validation_samples :]"
   ]
  },
  {
   "cell_type": "code",
   "execution_count": 4,
   "metadata": {},
   "outputs": [
    {
     "name": "stdout",
     "output_type": "stream",
     "text": [
      "Train on 47500 samples, validate on 12500 samples\n",
      "Epoch 1/13\n",
      "47500/47500 [==============================] - 45s 953us/step - loss: 0.6114 - acc: 0.8102 - val_loss: 0.2434 - val_acc: 0.9275\n",
      "Epoch 2/13\n",
      "47500/47500 [==============================] - 40s 847us/step - loss: 0.1585 - acc: 0.9511 - val_loss: 0.1083 - val_acc: 0.9654\n",
      "Epoch 3/13\n",
      "47500/47500 [==============================] - 40s 848us/step - loss: 0.0960 - acc: 0.9704 - val_loss: 0.0768 - val_acc: 0.9762\n",
      "Epoch 4/13\n",
      "47500/47500 [==============================] - 40s 849us/step - loss: 0.0644 - acc: 0.9793 - val_loss: 0.0926 - val_acc: 0.9718\n",
      "Epoch 5/13\n",
      "47500/47500 [==============================] - 46s 960us/step - loss: 0.0502 - acc: 0.9839 - val_loss: 0.0572 - val_acc: 0.9818\n",
      "Epoch 6/13\n",
      "47500/47500 [==============================] - 48s 1ms/step - loss: 0.0406 - acc: 0.9874 - val_loss: 0.0526 - val_acc: 0.9841\n",
      "Epoch 7/13\n",
      "47500/47500 [==============================] - 46s 970us/step - loss: 0.0336 - acc: 0.9894 - val_loss: 0.0617 - val_acc: 0.9802\n",
      "Epoch 8/13\n",
      "47500/47500 [==============================] - 43s 909us/step - loss: 0.0279 - acc: 0.9910 - val_loss: 0.0433 - val_acc: 0.9870\n",
      "Epoch 9/13\n",
      "47500/47500 [==============================] - 46s 973us/step - loss: 0.0238 - acc: 0.9923 - val_loss: 0.0402 - val_acc: 0.9893\n",
      "Epoch 10/13\n",
      "47500/47500 [==============================] - 42s 877us/step - loss: 0.0198 - acc: 0.9938 - val_loss: 0.0423 - val_acc: 0.9882\n",
      "Epoch 11/13\n",
      "47500/47500 [==============================] - 40s 834us/step - loss: 0.0169 - acc: 0.9947 - val_loss: 0.0395 - val_acc: 0.9886\n",
      "Epoch 12/13\n",
      "47500/47500 [==============================] - 41s 859us/step - loss: 0.0153 - acc: 0.9951 - val_loss: 0.0370 - val_acc: 0.9896\n",
      "Epoch 13/13\n",
      "47500/47500 [==============================] - 44s 918us/step - loss: 0.0116 - acc: 0.9963 - val_loss: 0.0377 - val_acc: 0.9899\n"
     ]
    }
   ],
   "source": [
    "# Modelling\n",
    "model = models.Sequential()\n",
    "# Convolution NN part\n",
    "model.add(layers.Conv2D(32, (3,3), activation='relu', input_shape=(28, 28, 1)))\n",
    "model.add(layers.MaxPooling2D((2, 2)))\n",
    "model.add(layers.Conv2D(64, (3,3), activation='relu'))\n",
    "model.add(layers.MaxPooling2D((2, 2)))\n",
    "model.add(layers.Conv2D(64, (3,3), activation='relu'))\n",
    "\n",
    "# Classifier Part\n",
    "model.add(layers.Flatten())\n",
    "model.add(layers.Dense(64, activation='relu'))\n",
    "model.add(layers.Dense(10, activation='softmax'))\n",
    "\n",
    "# Tunning the model\n",
    "model.compile(optimizer='rmsprop',  # a standard optimizer\n",
    "              loss='categorical_crossentropy',  # the suitable for multiclass classifiers\n",
    "              metrics=['accuracy'])  # suitable for a balanced dataset has the one we have\n",
    "history = model.fit(train_data, train_labels, epochs=13, batch_size=512,\n",
    "                    validation_data=[validation_data, validation_labels])\n",
    "# Monitor the Loss\n",
    "history_dict = history.history\n",
    "loss_values = history_dict['loss']\n",
    "val_loss_values = history_dict['val_loss']                      "
   ]
  },
  {
   "cell_type": "code",
   "execution_count": 5,
   "metadata": {},
   "outputs": [
    {
     "data": {
      "image/png": "[encoded data removed]",
      "text/plain": [
       "<matplotlib.figure.Figure at 0x7f9a06cb62e8>"
      ]
     },
     "metadata": {},
     "output_type": "display_data"
    }
   ],
   "source": [
    "# Plotting the Performance on each epoch\n",
    "epochs = range(1, 14)\n",
    "plt.plot(epochs, loss_values, 'bo', label='Training Loss')\n",
    "plt.plot(epochs, val_loss_values, 'b', label='Validation Loss')\n",
    "plt.title('Training and Validation Loss')\n",
    "plt.xlabel('Epochs')\n",
    "plt.ylabel('Loss')\n",
    "plt.legend()\n",
    "plt.show()"
   ]
  },
  {
   "cell_type": "markdown",
   "metadata": {},
   "source": [
    "## Validation\n",
    "\n",
    "We can see that the model starts to overfit in the training data after the 7th epoch, where the Validation Loss stabilizes.\n",
    "So I'll train the final model in 7 epochs using the whole training data."
   ]
  },
  {
   "cell_type": "code",
   "execution_count": 6,
   "metadata": {},
   "outputs": [
    {
     "name": "stdout",
     "output_type": "stream",
     "text": [
      "Epoch 1/7\n",
      "60000/60000 [==============================] - 62s 1ms/step - loss: 0.0174 - acc: 0.9947\n",
      "Epoch 2/7\n",
      "60000/60000 [==============================] - 52s 871us/step - loss: 0.0143 - acc: 0.9957\n",
      "Epoch 3/7\n",
      "60000/60000 [==============================] - 51s 843us/step - loss: 0.0120 - acc: 0.9962\n",
      "Epoch 4/7\n",
      "60000/60000 [==============================] - 51s 856us/step - loss: 0.0093 - acc: 0.9971\n",
      "Epoch 5/7\n",
      "60000/60000 [==============================] - 56s 938us/step - loss: 0.0086 - acc: 0.9972\n",
      "Epoch 6/7\n",
      "60000/60000 [==============================] - 60s 1ms/step - loss: 0.0071 - acc: 0.9978\n",
      "Epoch 7/7\n",
      "60000/60000 [==============================] - 51s 843us/step - loss: 0.0064 - acc: 0.9979\n",
      "10000/10000 [==============================] - 2s 192us/step\n",
      "Test Acc.: 99.0%\n"
     ]
    }
   ],
   "source": [
    "final_model = model\n",
    "final_model.fit(train_images_total, train_labels_total, epochs=7, batch_size=512)\n",
    "test_loss, test_acc = final_model.evaluate(test_images, test_labels)\n",
    "print('Test Acc.: {0}%'.format(round(test_acc, 2) * 100))\n",
    "\n",
    "final_model.save('mnist_final.h5')  # saving the model"
   ]
  },
  {
   "cell_type": "markdown",
   "metadata": {},
   "source": [
    "## Results\n",
    "\n",
    "99% Accuracy is great, especially with such a few lines of code for modelling. Thanks Keras for that!\n",
    "\n",
    "Now let's see if the model is good for classifying arbitrary data, for that I'll use it in a digit handwritten by myself."
   ]
  },
  {
   "cell_type": "code",
   "execution_count": 4,
   "metadata": {},
   "outputs": [
    {
     "name": "stdout",
     "output_type": "stream",
     "text": [
      "Prediction: 5\n"
     ]
    },
    {
     "data": {
      "image/png": "[encoded data removed]",
      "text/plain": [
       "<matplotlib.figure.Figure at 0x7f9fe11b1cc0>"
      ]
     },
     "metadata": {},
     "output_type": "display_data"
    }
   ],
   "source": [
    "im_gray = cv2.imread('digit_test.png', cv2.IMREAD_GRAYSCALE)\n",
    "thresh = 127\n",
    "im_bw = cv2.threshold(im_gray, thresh, 255, cv2.THRESH_BINARY)[1]\n",
    "im_bw = cv2.resize(im_bw, (28, 28))\n",
    "im_bw = (255 - im_bw)\n",
    "im_bw = im_bw.astype('float32') / 255\n",
    "plt.imshow(im_bw, cmap=plt.cm.binary)\n",
    "final_model = load_model('mnist_final.h5')\n",
    "test_prediction = final_model.predict(im_bw.reshape(1,28,28,1))\n",
    "digit_predicition = np.argmax(test_prediction)\n",
    "print('Prediction: {0}'.format(digit_predicition))"
   ]
  },
  {
   "cell_type": "markdown",
   "metadata": {},
   "source": [
    "## Great!\n",
    "\n",
    "It works well, feel free to try it yourself!"
   ]
  }
 ],
 "metadata": {
  "kernelspec": {
   "display_name": "Python 3",
   "language": "python",
   "name": "python3"
  },
  "language_info": {
   "codemirror_mode": {
    "name": "ipython",
    "version": 3
   },
   "file_extension": ".py",
   "mimetype": "text/x-python",
   "name": "python",
   "nbconvert_exporter": "python",
   "pygments_lexer": "ipython3",
   "version": "3.6.5"
  }
 },
 "nbformat": 4,
 "nbformat_minor": 2
}
